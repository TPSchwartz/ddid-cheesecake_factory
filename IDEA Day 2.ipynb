{
 "cells": [
  {
   "cell_type": "code",
   "execution_count": 1,
   "id": "0c296bc7",
   "metadata": {},
   "outputs": [],
   "source": [
    "import pandas as pd\n",
    "import matplotlib as plt\n",
    "import re"
   ]
  },
  {
   "cell_type": "code",
   "execution_count": 2,
   "id": "93e9c8ff",
   "metadata": {},
   "outputs": [],
   "source": [
    "exit_notes_df = pd.read_excel(r'C:\\Users\\David Chaniott\\Documents\\Nashville Software School\\python\\projects\\ddid-cheesecake_factory\\data/idea.xlsx', sheet_name = 'Exit Notes')"
   ]
  },
  {
   "cell_type": "code",
   "execution_count": null,
   "id": "d4178e10",
   "metadata": {},
   "outputs": [],
   "source": [
    "# sheetn = pd.read_excel(r'C:\\Users\\David Chaniott\\Documents\\Nashville Software School\\python\\projects\\ddid-cheesecake_factory\\data/idea.xlsx', sheet_name = 'ECO with Exit20-21')"
   ]
  },
  {
   "cell_type": "code",
   "execution_count": 3,
   "id": "52d9942d",
   "metadata": {},
   "outputs": [],
   "source": [
    "reopened_df = exit_notes_df[exit_notes_df['Exit Note'].str.contains('reopened', case=False, na=False)].reset_index(drop=True)\n",
    "reopened_df = reopened_df.drop(columns=['POE', 'DOB', 'Notification Date', 'Initial Eligibility Date'])"
   ]
  },
  {
   "cell_type": "code",
   "execution_count": null,
   "id": "a1123d47",
   "metadata": {},
   "outputs": [],
   "source": [
    "dates_df = reopened_df['Exit Note'].str.findall('(\\\\d{2}/\\\\d{2}/\\\\d{4})')\n",
    "dates_df"
   ]
  },
  {
   "cell_type": "code",
   "execution_count": null,
   "id": "8dd2b37b",
   "metadata": {},
   "outputs": [],
   "source": [
    "exit_date = reopened_df['Exit Date']\n",
    "exit_date"
   ]
  },
  {
   "cell_type": "code",
   "execution_count": null,
   "id": "1debe1fd",
   "metadata": {},
   "outputs": [],
   "source": [
    "Test = reopened_df['Exit Note'].str.findall('Reopened: \\d{2}/\\d{2}/\\d{4}')\n",
    "Test"
   ]
  },
  {
   "cell_type": "code",
   "execution_count": null,
   "id": "636047f7",
   "metadata": {},
   "outputs": [],
   "source": [
    "print(Test[24])"
   ]
  },
  {
   "cell_type": "code",
   "execution_count": null,
   "id": "2a4c3fff",
   "metadata": {},
   "outputs": [],
   "source": [
    "# Step N: Read the whole .csv\n",
    "# Step N: Creat Column RealService Time\n",
    "# Step N: Iterate and for rows with 'Reopened: ' run function to get RealServiceTime\n",
    "\n",
    "# Take the Below WITHOUT dropping the un'Reopened' rows\n",
    "reopened_df = exit_notes_df[exit_notes_df['Exit Note'].str.contains('reopened', case=False, na=False)].reset_index(drop=True)\n",
    "reopened_df = reopened_df.drop(columns=['POE', 'DOB', 'Notification Date', 'Initial Eligibility Date'])\n",
    "\n",
    "def function(index,row)\n",
    "    \n",
    "# Current Calculation : ExitDateFinal - InitialIFSP = TotalServiceTime\n",
    "# ExitDateFinal + (Reopen-N - ExitDate-N) - InitialIFSP = RealServiceTime\n",
    "                          # ^^ Here, N is number of reopen/exit cycles.\n",
    "                          # Each has to be summed alone.\n",
    "    \n",
    "    index['Exit Date'] + (ReOn)\n",
    "    \n",
    "# Step N: For rows wo 'Reopened: ' RealServiceTime = TotalServiceTime \n",
    "    # Get it from the orginal sheet or recalculate with ExitDateFinal - InitialIFSP = TotalServiceTime\n",
    "# Step N: ?\n",
    "# Step 4: Profit!\n",
    "\n"
   ]
  },
  {
   "cell_type": "code",
   "execution_count": null,
   "id": "4ad5e5f1",
   "metadata": {},
   "outputs": [],
   "source": [
    "TestROpen = display(reopened_df['Exit Note'].str.findall('Reopened: \\\\d{2}/\\\\d{2}/\\\\d{4}').head(20))\n",
    "TestExit = display(reopened_df['Exit Note'].str.findall('Exit Date: \\\\d{2}/\\\\d{2}/\\\\d{4}').head(20))"
   ]
  },
  {
   "cell_type": "code",
   "execution_count": null,
   "id": "cb236909",
   "metadata": {},
   "outputs": [],
   "source": [
    "ChangeDays = TestROpen.date - TestExit.date"
   ]
  },
  {
   "cell_type": "code",
   "execution_count": null,
   "id": "4d716421",
   "metadata": {},
   "outputs": [],
   "source": [
    "reopen_date_df[reopened_dates].str.split(',', expand = True).head(20)"
   ]
  },
  {
   "cell_type": "code",
   "execution_count": null,
   "id": "af4ade63",
   "metadata": {},
   "outputs": [],
   "source": [
    "reopened_df['reopened_dates'] = reopened_df['Exit Note'].str.findall('Reopened: \\\\d{2}/\\\\d{2}/\\\\d{4}')\n",
    "reopened_df['exit_dates'] = reopened_df['Exit Note'].str.findall('Exit Date: \\\\d{2}/\\\\d{2}/\\\\d{4}')\n",
    "reopen_date_df = reopened_df.reopened_dates.to_frame().astype(str)\n",
    "exit_date_df = reopened_df.exit_dates.to_frame().astype(str)\n",
    "reopen_date_df = reopen_date_df.reopened_dates.str.split(',', expand=True)\n",
    "reopen_date_df.columns = ['reopen1', 'reopen2', 'reopen3', 'reopen4', 'reopen5', 'reopen6']\n",
    "exit_date_df = exit_date_df.exit_dates.str.split(',', expand=True)\n",
    "exit_date_df.columns = ['exit1', 'exit2', 'exit3', 'exit4', 'exit5', 'exit6']\n",
    "cols_r = ['reopen1', 'reopen2', 'reopen3', 'reopen4', 'reopen5', 'reopen6']\n",
    "cols_e = ['exit1', 'exit2', 'exit3', 'exit4', 'exit5', 'exit6']\n",
    "reopen_date_df[cols_r] = reopen_date_df[cols_r].replace({'\\[':'', '\\]':'', '\\'':'', 'Reopened:':''}, regex=True)\n",
    "exit_date_df[cols_e] = exit_date_df[cols_e].replace({'\\[':'', '\\]':'', '\\'':'', 'Exit Date:':''}, regex=True)\n",
    "display(reopen_date_df)\n",
    "display(exit_date_df)"
   ]
  }
 ],
 "metadata": {
  "kernelspec": {
   "display_name": "Python 3 (ipykernel)",
   "language": "python",
   "name": "python3"
  },
  "language_info": {
   "codemirror_mode": {
    "name": "ipython",
    "version": 3
   },
   "file_extension": ".py",
   "mimetype": "text/x-python",
   "name": "python",
   "nbconvert_exporter": "python",
   "pygments_lexer": "ipython3",
   "version": "3.9.7"
  }
 },
 "nbformat": 4,
 "nbformat_minor": 5
}
