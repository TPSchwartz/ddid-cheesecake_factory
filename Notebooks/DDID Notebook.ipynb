{
 "cells": [
  {
   "cell_type": "code",
   "execution_count": 2,
   "metadata": {},
   "outputs": [],
   "source": [
    "import pandas as pd\n",
    "pd.set_option('display.width', 1000)\n",
    "import numpy as np\n",
    "from datetime import timedelta\n",
    "\n",
    "\n",
    "#CHECK LINE 20 FOR WHAT TO DO NEXT\n",
    "#CONVERTING EXIT DATE INTO AGE3DATE IF NECESSARY"
   ]
  },
  {
   "cell_type": "code",
   "execution_count": 3,
   "metadata": {},
   "outputs": [],
   "source": [
    "exit_notes_df = pd.read_excel('..\\Data\\TEIS Exit Data for NSS COPY.xlsx', sheet_name='Exit Notes')"
   ]
  },
  {
   "cell_type": "code",
   "execution_count": 10,
   "metadata": {},
   "outputs": [
    {
     "ename": "SyntaxError",
     "evalue": "unexpected character after line continuation character (Temp/ipykernel_12120/1768011686.py, line 1)",
     "output_type": "error",
     "traceback": [
      "\u001b[1;36m  File \u001b[1;32m\"C:\\Users\\Alex7\\AppData\\Local\\Temp/ipykernel_12120/1768011686.py\"\u001b[1;36m, line \u001b[1;32m1\u001b[0m\n\u001b[1;33m    \\reopened_df = exit_notes_df[exit_notes_df['Exit Note'].str.contains('reopened', case=False, na=False)].reset_index(drop=True)\u001b[0m\n\u001b[1;37m                                                                                                                                 ^\u001b[0m\n\u001b[1;31mSyntaxError\u001b[0m\u001b[1;31m:\u001b[0m unexpected character after line continuation character\n"
     ]
    }
   ],
   "source": [
    "\\reopened_df = exit_notes_df[exit_notes_df['Exit Note'].str.contains('reopened', case=False, na=False)].reset_index(drop=True)\n",
    "reopened_df = reopened_df.drop(columns=['POE', 'Notification Date', 'Initial Eligibility Date', 'Latest IFSP Date'])\n",
    "#reopened_df.head()"
   ]
  },
  {
   "cell_type": "code",
   "execution_count": 9,
   "metadata": {},
   "outputs": [],
   "source": [
    "reopened_df['Exit Note'].str.findall('(\\\\d{2}/\\\\d{2}/\\\\d{4})')\n",
    "dates_df = reopened_df['Exit Note'].str.findall('(\\\\d{2}/\\\\d{2}/\\\\d{4})')\n",
    "dates_df = dates_df.to_frame()\n",
    "\n",
    "dates_df['total_dates'] = dates_df['Exit Note'].apply(lambda x: len(str(x).split(' ')))\n",
    "#display(dates_df)\n",
    "\n",
    "dates_df.total_dates.describe()\n",
    "\n",
    "reopened_df['reopened_dates'] = reopened_df['Exit Note'].str.findall('Reopened: \\\\d{2}/\\\\d{2}/\\\\d{4}')\n",
    "reopened_df['exit_dates'] = reopened_df['Exit Note'].str.findall('Exit Date: \\\\d{2}/\\\\d{2}/\\\\d{4}')\n",
    "\n",
    "reopen_date_df = reopened_df.reopened_dates.to_frame().astype(str)\n",
    "exit_date_df = reopened_df.exit_dates.to_frame().astype(str)\n",
    "\n",
    "reopen_date_df = reopen_date_df.reopened_dates.str.split(',', expand=True)\n",
    "reopen_date_df.columns = ['reopen1', 'reopen2', 'reopen3', 'reopen4', 'reopen5', 'reopen6']\n",
    "exit_date_df = exit_date_df.exit_dates.str.split(',', expand=True)\n",
    "exit_date_df.columns = ['exit1', 'exit2', 'exit3', 'exit4', 'exit5', 'exit6']\n",
    "\n",
    "cols_r = ['reopen1', 'reopen2', 'reopen3', 'reopen4', 'reopen5', 'reopen6']\n",
    "cols_e = ['exit1', 'exit2', 'exit3', 'exit4', 'exit5', 'exit6']\n",
    "\n",
    "reopen_date_df[cols_r] = reopen_date_df[cols_r].replace({'\\[':'', '\\]':'', '\\'':'', 'Reopened:':''}, regex=True)\n",
    "exit_date_df[cols_e] = exit_date_df[cols_e].replace({'\\[':'', '\\]':'', '\\'':'', 'Exit Date:':''}, regex=True)\n",
    "#display(reopen_date_df)\n",
    "#display(exit_date_df)"
   ]
  },
  {
   "cell_type": "code",
   "execution_count": 19,
   "metadata": {},
   "outputs": [
    {
     "name": "stderr",
     "output_type": "stream",
     "text": [
      "C:\\Users\\Alex7\\AppData\\Local\\Temp/ipykernel_12120/2353463356.py:11: SettingWithCopyWarning: \n",
      "A value is trying to be set on a copy of a slice from a DataFrame.\n",
      "Try using .loc[row_indexer,col_indexer] = value instead\n",
      "\n",
      "See the caveats in the documentation: https://pandas.pydata.org/pandas-docs/stable/user_guide/indexing.html#returning-a-view-versus-a-copy\n",
      "  ifsp_date['age3_date'] = ifsp_date['DOB'] + pd.offsets.DateOffset(years=3)\n"
     ]
    },
    {
     "ename": "TypeError",
     "evalue": "The DTypes <class 'numpy.dtype[datetime64]'> and <class 'numpy.dtype[str_]'> do not have a common DType. For example they cannot be stored in a single array unless the dtype is `object`.",
     "output_type": "error",
     "traceback": [
      "\u001b[1;31m---------------------------------------------------------------------------\u001b[0m",
      "\u001b[1;31mTypeError\u001b[0m                                 Traceback (most recent call last)",
      "\u001b[1;32m~\\AppData\\Local\\Temp/ipykernel_12120/2353463356.py\u001b[0m in \u001b[0;36m<module>\u001b[1;34m\u001b[0m\n\u001b[0;32m     21\u001b[0m \u001b[0mreopen_exit_date_df\u001b[0m\u001b[1;33m[\u001b[0m\u001b[1;34m'Days from I-IFSP to Exit'\u001b[0m\u001b[1;33m]\u001b[0m \u001b[1;33m=\u001b[0m \u001b[0mreopen_exit_date_df\u001b[0m\u001b[1;33m[\u001b[0m\u001b[1;34m'Exit Date'\u001b[0m\u001b[1;33m]\u001b[0m \u001b[1;33m-\u001b[0m \u001b[0mreopen_exit_date_df\u001b[0m\u001b[1;33m[\u001b[0m\u001b[1;34m'Initial IFSP Date'\u001b[0m\u001b[1;33m]\u001b[0m\u001b[1;33m\u001b[0m\u001b[1;33m\u001b[0m\u001b[0m\n\u001b[0;32m     22\u001b[0m \u001b[1;33m\u001b[0m\u001b[0m\n\u001b[1;32m---> 23\u001b[1;33m \u001b[0mreopen_exit_date_df\u001b[0m\u001b[1;33m.\u001b[0m\u001b[0mreopen1\u001b[0m \u001b[1;33m=\u001b[0m \u001b[0mnp\u001b[0m\u001b[1;33m.\u001b[0m\u001b[0mwhere\u001b[0m\u001b[1;33m(\u001b[0m\u001b[0mreopen_exit_date_df\u001b[0m\u001b[1;33m.\u001b[0m\u001b[0mreopen1\u001b[0m \u001b[1;33m>\u001b[0m \u001b[0mreopen_exit_date_df\u001b[0m\u001b[1;33m.\u001b[0m\u001b[0mage3_date\u001b[0m\u001b[1;33m,\u001b[0m \u001b[1;34m'NaT'\u001b[0m\u001b[1;33m,\u001b[0m \u001b[0mreopen_exit_date_df\u001b[0m\u001b[1;33m.\u001b[0m\u001b[0mreopen1\u001b[0m\u001b[1;33m)\u001b[0m\u001b[1;33m\u001b[0m\u001b[1;33m\u001b[0m\u001b[0m\n\u001b[0m\u001b[0;32m     24\u001b[0m \u001b[1;33m\u001b[0m\u001b[0m\n\u001b[0;32m     25\u001b[0m \u001b[1;33m\u001b[0m\u001b[0m\n",
      "\u001b[1;32m<__array_function__ internals>\u001b[0m in \u001b[0;36mwhere\u001b[1;34m(*args, **kwargs)\u001b[0m\n",
      "\u001b[1;31mTypeError\u001b[0m: The DTypes <class 'numpy.dtype[datetime64]'> and <class 'numpy.dtype[str_]'> do not have a common DType. For example they cannot be stored in a single array unless the dtype is `object`."
     ]
    }
   ],
   "source": [
    "reopen_exit_date_df = reopen_date_df.join(exit_date_df)\n",
    "\n",
    "cols_r_e =  ['reopen1', 'reopen2', 'reopen3', 'reopen4', 'reopen5', 'reopen6',\n",
    "             'exit1', 'exit2', 'exit3', 'exit4', 'exit5', 'exit6']\n",
    "reopen_exit_date_df = reopen_exit_date_df.astype('datetime64')\n",
    "reopen_exit_date_df = reopen_exit_date_df.reindex(columns=['exit1', 'reopen1', 'exit2', 'reopen2', 'exit3', 'reopen3', 'exit4', 'reopen4', 'exit5', 'reopen5', 'exit6', 'reopen6'])\n",
    "reopen_exit_date_df\n",
    "\n",
    "ifsp_date = reopened_df[['Child ID', 'DOB', 'Initial IFSP Date', 'Exit Date', 'Days from I-IFSP to Exit']]\n",
    "ifsp_date[['Initial IFSP Date', 'Exit Date']].astype('datetime64')\n",
    "ifsp_date['age3_date'] = ifsp_date['DOB'] + pd.offsets.DateOffset(years=3)\n",
    "reopen_exit_date_df = ifsp_date.join(reopen_exit_date_df)\n",
    "\n",
    "###IF REOPEN DATE IS AFTER 'EXIT DATE', CHANGE 'EXIT DATE' TO CURRENT DAY AND RECALCULATE 'DAYS FROM I-IFSP TO EXIT'\n",
    "reopen_exit_date_df.loc[reopen_exit_date_df.reopen1 > reopen_exit_date_df['Exit Date'], ['Exit Date']] = pd.to_datetime('today').normalize()\n",
    "\n",
    "###IF 'EXIT DATE' IS AFTER THEIR 3RD BIRTHDAY, CHANGE 'EXIT DATE' TO 'AGE3_DATE'\n",
    "reopen_exit_date_df['Exit Date'] = np.where(reopen_exit_date_df['Exit Date'] > reopen_exit_date_df.age3_date, reopen_exit_date_df.age3_date, reopen_exit_date_df['Exit Date'])\n",
    "\n",
    "###RECALCULATE 'DAYS FROM I-IFSP TO EXIT'\n",
    "reopen_exit_date_df['Days from I-IFSP to Exit'] = reopen_exit_date_df['Exit Date'] - reopen_exit_date_df['Initial IFSP Date']\n",
    "\n",
    "reopen_exit_date_df.reopen1 = np.where(reopen_exit_date_df.reopen1 > reopen_exit_date_df.age3_date, 'NaT', reopen_exit_date_df.reopen1)\n",
    "\n",
    "\n",
    "\n",
    "\n",
    "reopen_exit_date_df.loc[reopen_exit_date_df.exit1 < reopen_exit_date_df['Initial IFSP Date'], ['exit1']] = 'NaT'\n",
    "reopen_exit_date_df.loc[reopen_exit_date_df.exit2 < reopen_exit_date_df['Initial IFSP Date'], ['exit2']] = 'NaT'\n",
    "reopen_exit_date_df.loc[reopen_exit_date_df.exit3 < reopen_exit_date_df['Initial IFSP Date'], ['exit3']] = 'NaT'\n",
    "reopen_exit_date_df.loc[reopen_exit_date_df.exit4 < reopen_exit_date_df['Initial IFSP Date'], ['exit4']] = 'NaT'\n",
    "reopen_exit_date_df.loc[reopen_exit_date_df.exit5 < reopen_exit_date_df['Initial IFSP Date'], ['exit5']] = 'NaT'\n",
    "reopen_exit_date_df.loc[reopen_exit_date_df.exit6 < reopen_exit_date_df['Initial IFSP Date'], ['exit6']] = 'NaT'\n",
    "reopen_exit_date_df.loc[reopen_exit_date_df.reopen1 < reopen_exit_date_df['Initial IFSP Date'], ['reopen1']] = 'NaT'\n",
    "reopen_exit_date_df.loc[reopen_exit_date_df.reopen2 < reopen_exit_date_df['Initial IFSP Date'], ['reopen2']] = 'NaT'\n",
    "reopen_exit_date_df.loc[reopen_exit_date_df.reopen3 < reopen_exit_date_df['Initial IFSP Date'], ['reopen3']] = 'NaT'\n",
    "reopen_exit_date_df.loc[reopen_exit_date_df.reopen4 < reopen_exit_date_df['Initial IFSP Date'], ['reopen4']] = 'NaT'\n",
    "reopen_exit_date_df.loc[reopen_exit_date_df.reopen5 < reopen_exit_date_df['Initial IFSP Date'], ['reopen5']] = 'NaT'\n",
    "reopen_exit_date_df.loc[reopen_exit_date_df.reopen6 < reopen_exit_date_df['Initial IFSP Date'], ['reopen6']] = 'NaT'\n",
    "\n",
    "reopen_exit_date_df = reopen_exit_date_df[reopen_exit_date_df.exit1.notnull()].reset_index(drop=True)\n",
    "\n",
    "#reopen_exit_date_df.exit2 = np.where(reopen_exit_date_df.exit2 == reopen_exit_date_df['Exit Date'], reopen_exit_date_df.exit3, reopen_exit_date_df.exit2)\n",
    "reopen_exit_date_df.exit1 = np.where(reopen_exit_date_df.exit1 == reopen_exit_date_df['Exit Date'], reopen_exit_date_df.exit2, reopen_exit_date_df.exit1)\n",
    "\n",
    "#reopen_exit_date_df.exit1 = reopen_exit_date_df.exit1.astype('datetime64').dt.date\n",
    "#reopen_exit_date_df.reopen1 = reopen_exit_date_df.reopen1.astype('datetime64').dt.date\n",
    "\n",
    "reopen_exit_date_df['r1-e1'] = reopen_exit_date_df.reopen1 - reopen_exit_date_df.exit1\n",
    "reopen_exit_date_df['r2-e2'] = reopen_exit_date_df.reopen2 - reopen_exit_date_df.exit2\n",
    "reopen_exit_date_df['r3-e3'] = reopen_exit_date_df.reopen3 - reopen_exit_date_df.exit3\n",
    "reopen_exit_date_df['r4-e4'] = reopen_exit_date_df.reopen4 - reopen_exit_date_df.exit4\n",
    "reopen_exit_date_df['r5-e5'] = reopen_exit_date_df.reopen5 - reopen_exit_date_df.exit5\n",
    "reopen_exit_date_df['r6-e6'] = reopen_exit_date_df.reopen6 - reopen_exit_date_df.exit6\n",
    "reopen_exit_date_df.dtypes\n",
    "\n",
    "reopen_exit_date_df['r1-e1'] = reopen_exit_date_df['r1-e1'].fillna(pd.Timedelta(seconds=0))\n",
    "reopen_exit_date_df['r2-e2'] = reopen_exit_date_df['r2-e2'].fillna(pd.Timedelta(seconds=0))\n",
    "reopen_exit_date_df['r3-e3'] = reopen_exit_date_df['r3-e3'].fillna(pd.Timedelta(seconds=0))\n",
    "reopen_exit_date_df['r4-e4'] = reopen_exit_date_df['r4-e4'].fillna(pd.Timedelta(seconds=0))\n",
    "reopen_exit_date_df['r5-e5'] = reopen_exit_date_df['r5-e5'].fillna(pd.Timedelta(seconds=0))\n",
    "reopen_exit_date_df['r6-e6'] = reopen_exit_date_df['r6-e6'].fillna(pd.Timedelta(seconds=0))\n",
    "\n",
    "reopen_exit_date_df['day_diff'] = reopen_exit_date_df['r1-e1'] + reopen_exit_date_df['r2-e2'] + reopen_exit_date_df['r3-e3'] + reopen_exit_date_df['r4-e4'] + reopen_exit_date_df['r5-e5'] + reopen_exit_date_df['r6-e6']\n",
    "reopen_exit_date_df.day_diff = reopen_exit_date_df.day_diff.astype('timedelta64[D]').astype(int)\n",
    "reopen_exit_date_df['actual_service_time'] = reopen_exit_date_df['Days from I-IFSP to Exit'].astype('timedelta64[D]').astype(int) - reopen_exit_date_df.day_diff\n",
    "display(reopen_exit_date_df['actual_service_time'].sort_values())\n",
    "display(reopen_exit_date_df.iloc[563])\n",
    "reopen_exit_date_df.dtypes\n",
    "\n",
    "\n",
    "###if exit1 = final exit date, repopulate exit1 with exit2"
   ]
  },
  {
   "cell_type": "code",
   "execution_count": 16,
   "metadata": {},
   "outputs": [
    {
     "data": {
      "text/plain": [
       "Child ID                                 433605\n",
       "DOB                         2018-01-26 00:00:00\n",
       "Initial IFSP Date           2018-05-23 00:00:00\n",
       "Exit Date                   2021-01-26 00:00:00\n",
       "Days from I-IFSP to Exit      979 days 00:00:00\n",
       "age3_date                   2021-01-26 00:00:00\n",
       "exit1                       2020-12-18 00:00:00\n",
       "reopen1                     2021-01-05 00:00:00\n",
       "exit2                       2020-07-27 00:00:00\n",
       "reopen2                     2020-11-02 00:00:00\n",
       "exit3                       2019-05-20 00:00:00\n",
       "reopen3                     2020-07-09 00:00:00\n",
       "exit4                       2018-11-10 00:00:00\n",
       "reopen4                     2018-12-17 00:00:00\n",
       "exit5                                       NaT\n",
       "reopen5                                     NaT\n",
       "exit6                                       NaT\n",
       "reopen6                                     NaT\n",
       "r1-e1                          18 days 00:00:00\n",
       "r2-e2                          98 days 00:00:00\n",
       "r3-e3                         416 days 00:00:00\n",
       "r4-e4                          37 days 00:00:00\n",
       "r5-e5                           0 days 00:00:00\n",
       "r6-e6                           0 days 00:00:00\n",
       "day_diff                                    569\n",
       "Name: 67, dtype: object"
      ]
     },
     "metadata": {},
     "output_type": "display_data"
    }
   ],
   "source": [
    "#reopen_exit_date_df.exit1 = np.where(reopen_exit_date_df.exit1 == reopen_exit_date_df['Exit Date'], reopen_exit_date_df.exit1, reopen_exit_date_df.exit2)\n",
    "#reopen_exit_date_df.exit1 = reopen_exit_date_df.exit1.astype('datetime64').dt.date\n",
    "\n",
    "#reopen_exit_date_df.loc[reopen_exit_date_df.exit2 < reopen_exit_date_df['Initial IFSP Date'], ['exit2']] = 'NaT'\n",
    "#reopen_exit_date_df.loc[reopen_exit_date_df.exit3 < reopen_exit_date_df['Initial IFSP Date'], ['exit3']] = 'NaT'\n",
    "#reopen_exit_date_df.loc[reopen_exit_date_df.exit4 < reopen_exit_date_df['Initial IFSP Date'], ['exit4']] = 'NaT'\n",
    "#reopen_exit_date_df.loc[reopen_exit_date_df.exit5 < reopen_exit_date_df['Initial IFSP Date'], ['exit5']] = 'NaT'\n",
    "#reopen_exit_date_df.loc[reopen_exit_date_df.exit6 < reopen_exit_date_df['Initial IFSP Date'], ['exit6']] = 'NaT'\n",
    "display(reopen_exit_date_df.iloc[67])"
   ]
  }
 ],
 "metadata": {
  "interpreter": {
   "hash": "d1be5264e27b276bd2f42c2c2a657f08acda7e20883051227890d13f87ab4def"
  },
  "kernelspec": {
   "display_name": "Python 3.8.5 ('geospatial')",
   "language": "python",
   "name": "python3"
  },
  "language_info": {
   "codemirror_mode": {
    "name": "ipython",
    "version": 3
   },
   "file_extension": ".py",
   "mimetype": "text/x-python",
   "name": "python",
   "nbconvert_exporter": "python",
   "pygments_lexer": "ipython3",
   "version": "3.9.7"
  },
  "orig_nbformat": 4
 },
 "nbformat": 4,
 "nbformat_minor": 2
}
